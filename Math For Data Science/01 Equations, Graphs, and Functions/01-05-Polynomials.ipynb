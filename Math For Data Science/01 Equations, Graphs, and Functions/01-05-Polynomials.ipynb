{
  "cells": [
    {
      "metadata": {},
      "cell_type": "markdown",
      "source": "# Polynomials\nSome of the equations we've looked at so far include expressions that are actually *polynomials*; but what *is* a polynomial, and why should you care?\n\nA polynomial is an algebraic expression containing one or more *terms* that each meet some specific criteria. Specifically:\n- Each term can contain:\n - Numeric values that are coefficients or constants (for example 2, -5, <sup>1</sup>/<sub>7</sub>)\n - Variables (for example, x, y)\n - Non-negative integer exponents (for example <sup>2</sup>, <sup>64</sup>)\n- The terms can be combined using arithmetic operations - but **not** division by a variable.\n\nFor example, the following expression is a polynomial:\n\n\\begin{equation}12x^{3} + 2x - 16 \\end{equation}\n\nWhen identifying the terms in a polynomial, it's important to correctly interpret the arithmetic addition and subtraction operators as the sign for the term that follows. For example, the polynomial above contains the following three terms:\n- 12x<sup>3</sup>\n- 2x\n- -16\n\nThe terms themselves include:\n- Two coefficients(12 and 2) and a constant (-16)\n- A variable (x)\n- An exponent (<sup>3</sup>)\n\nA polynomial that contains three terms is also known as a *trinomial*. Similarly, a polynomial with two terms is known as a *binomial* and a polynomial with only one term is known as a *monomial*.\n\nSo why do we care? Well, polynomials have some useful properties that make them easy to work with. for example, if you multiply, add, or subtract a polynomial, the result is always another polynomial.\n\n## Standard Form for Polynomials\nTechbnically, you can write the terms of a polynomial in any order; but the *standard form* for a polynomial is to start with the highest *degree* first and constants last. The degree of a term is the highest order (exponent) in the term, and the highest order in a polynomial determines the degree of the polynomial itself.\n\nFor example, consider the following expression:\n\\begin{equation}3x + 4xy^{2} - 3 + x^{3} \\end{equation}\n\nTo express this as a polynomial in the standard form, we need to re-order the terms like this:\n\n\\begin{equation}x^{3} + 4xy^{2} + 3x - 3 \\end{equation}\n\n## Simplifying Polynomials\nWe saw previously how you can simplify an equation by combining *like terms*. You can simplify polynomials in the same way.\n\nFor example, look at the following polynomial:\n\n\\begin{equation}x^{3} + 2x^{3} - 3x - x + 8 - 3 \\end{equation}\n\nIn this case, we can combine x<sup>3</sup> and 2x<sup>3</sup> by adding them to make 3x<sup>3</sup>. Then we can add -3x and -x (which is really just a shorthand way to say -1x) to get -4x, and then add 8 and -3 to get 5. Our simplified polynomial then looks like this:\n\n\\begin{equation}3x^{3} - 4x + 5 \\end{equation}\n\nWe can use Python to compare the original and simplified polynomials to check them - using an arbitrary random value for ***x***:"
    },
    {
      "metadata": {
        "collapsed": true,
        "trusted": false
      },
      "cell_type": "code",
      "source": "from random import randint\nx = randint(1,100)\n\n(x**3 + 2*x**3 - 3*x - x + 8 - 3) == (3*x**3 - 4*x + 5)",
      "execution_count": null,
      "outputs": []
    },
    {
      "metadata": {},
      "cell_type": "markdown",
      "source": "## Adding Polynomials\nWhen you add two polynomials, the result is a polynomial. Here's an example:\n\n\\begin{equation}(3x^{3} - 4x + 5)   +   (2x^{3} + 3x^{2} - 2x + 2) \\end{equation}\n\nbecause this is an addition operation, you can simply add all of the like terms from both polynomials. To make this clear, let's first put the like terms together:\n\n\\begin{equation}3x^{3} + 2x^{3} + 3x^{2} - 4x -2x + 5 + 2 \\end{equation}\n\nThis simplifies to:\n\n\\begin{equation}5x^{3} + 3x^{2} - 6x + 7 \\end{equation}\n\nWe can verify this with Python:"
    },
    {
      "metadata": {
        "collapsed": true,
        "trusted": false
      },
      "cell_type": "code",
      "source": "from random import randint\nx = randint(1,100)\n\n\n(3*x**3 - 4*x + 5) + (2*x**3 + 3*x**2 - 2*x + 2) == 5*x**3 + 3*x**2 - 6*x + 7",
      "execution_count": null,
      "outputs": []
    },
    {
      "metadata": {},
      "cell_type": "markdown",
      "source": "## Subtracting Polynomials\nSubtracting polynomials is similar to adding them but you need to take into account that one of the polynomials is a negative.\n\nConsider this expression:\n\n\\begin{equation}(2x^{2} - 4x + 5)   -   (x^{2} - 2x + 2) \\end{equation}\n\nThe key to performing this calculation is to realize that the subtraction of the second polynomial is really an expression that adds -1(x<sup>2</sup> - 2x + 2); so you can use the distributive property to multiply each of the terms in the polynomial by -1 (which in effect simply reverses the sign for each term). So our expression becomes:\n\n\\begin{equation}(2x^{2} - 4x + 5)   +   (-x^{2} + 2x - 2) \\end{equation}\n\nWhich we can solve as an addition problem. First place the like terms together:\n\n\\begin{equation}2x^{2} + -x^{2} + -4x + 2x + 5 + -2 \\end{equation}\n\nWhich simplifies to:\n\n\\begin{equation}x^{2} - 2x + 3 \\end{equation}\n\nLet's check that with Python:"
    },
    {
      "metadata": {
        "collapsed": true,
        "trusted": false
      },
      "cell_type": "code",
      "source": "from random import randint\nx = randint(1,100)\n\n(2*x**2 - 4*x + 5) - (x**2 - 2*x + 2) == x**2 - 2*x + 3",
      "execution_count": null,
      "outputs": []
    },
    {
      "metadata": {},
      "cell_type": "markdown",
      "source": "## Multiplying Polynomials\nTo multiply two polynomials, you need to perform the following two steps:\n1. Multiply each term in the first polynomial by each term in the second polynomial.\n2. Add the results of the multiplication operations, combining like terms where possible.\n\nFor example, consider this expression:\n\n\\begin{equation}(x^{4} + 2)(2x^{2} + 3x - 3) \\end{equation}\n\nLet's do the first step and multiply each term in the first polynomial by each term in the second polynomial. The first term in the first polynomial is x<sup>4</sup>, and the first term in the second polynomial is 2x<sup>2</sup>, so multiplying these gives us 2x<sup>6</sup>. Then we can multiply the first term in the first polynomial (x<sup>4</sup>) by the second term in the second polynomial (3x), which gives us 3x<sup>5</sup>, and so on until we've multipled all of the terms in the first polynomial by all of the terms in the second polynomial, which results in this:\n\n\\begin{equation}2x^{6} + 3x^{5} - 3x^{4} + 4x^{2} + 6x - 6 \\end{equation}\n\nWe can verify a match between this result and the original expression this with the following Python code:"
    },
    {
      "metadata": {
        "collapsed": true,
        "trusted": false
      },
      "cell_type": "code",
      "source": "from random import randint\nx = randint(1,100)\n\n(x**4 + 2)*(2*x**2 + 3*x - 3) == 2*x**6 + 3*x**5 - 3*x**4 + 4*x**2 + 6*x - 6",
      "execution_count": null,
      "outputs": []
    },
    {
      "metadata": {},
      "cell_type": "markdown",
      "source": "## Dividing Polynomials\nWhen you need to divide one polynomial by another, there are two approaches you can take depending on the number of terms in the divisor (the expression you're dividing by).\n\n### Dividing Polynomials Using Simplification\nIn the simplest case, division of a polynomial by a monomial, the operation is really just simplification of a fraction.\n\nFor example, consider the following expression:\n\n\\begin{equation}(4x + 6x^{2}) \\div 2x \\end{equation}\n\nThis can also be written as:\n\n\\begin{equation}\\frac{4x + 6x^{2}}{2x} \\end{equation}\n\nOne approach to simplifying this fraction is to split it it into a separate fraction for each term in the dividend (the expression we're dividing), like this:\n\n\\begin{equation}\\frac{4x}{2x} + \\frac{6x^{2}}{2x}\\end{equation}\n\nThen we can simplify each fraction and add the results. For the first fraction, 2x goes into 4x twice, so the fraction simplifies to 2; and for the second, 6x<sup>2</sup> is 2x mutliplied by 3x. So our answer is 2 + 3x:\n\n\\begin{equation}2 + 3x\\end{equation}\n\nLet's use Python to compare the original fraction with the simplified result for an arbitrary value of ***x***:"
    },
    {
      "metadata": {
        "collapsed": true,
        "trusted": false
      },
      "cell_type": "code",
      "source": "from random import randint\nx = randint(1,100)\n\n(4*x + 6*x**2) / (2*x) == 2 + 3*x",
      "execution_count": null,
      "outputs": []
    },
    {
      "metadata": {},
      "cell_type": "markdown",
      "source": "### Dividing Polynomials Using Long Division\nThings get a little more complicated for divisors with more than one term.\n\nSuppose we have the following expression:\n\\begin{equation}(x^{2} + 2x - 3) \\div (x - 2) \\end{equation}\n\nAnother way of writing this is to use the long-division format, like this:\n\\begin{equation} x - 2 |\\overline{x^{2} + 2x - 3} \\end{equation}\n\nWe begin long-division by dividing the highest order divisor into the highest order dividend - so in this case we divide x into x<sup>2</sup>. X goes into x<sup>2</sup> x times, so we put an x on top and then multiply it through the divisor:\n\\begin{equation} \\;\\;\\;\\;x \\end{equation}\n\\begin{equation}x - 2 |\\overline{x^{2} + 2x - 3} \\end{equation}\n\\begin{equation} \\;x^{2} -2x \\end{equation}\n\nNow we'll subtract the remaining dividend, and then carry down the -3 that we haven't used to see what's left:\n\\begin{equation} \\;\\;\\;\\;x \\end{equation}\n\\begin{equation}x - 2 |\\overline{x^{2} + 2x - 3} \\end{equation}\n\\begin{equation}- (x^{2} -2x) \\end{equation}\n\\begin{equation}\\;\\;\\;\\;\\;\\overline{\\;\\;\\;\\;\\;\\;\\;\\;\\;\\;4x -3} \\end{equation}\n\nOK, now we'll divide our highest order divisor into the highest order of the remaining dividend. In this case, x goes into 4x four times, so we'll add a 4 to the top line, multiply it through the divisor, and subtract the remaining dividend:\n\\begin{equation} \\;\\;\\;\\;\\;\\;\\;\\;x + 4 \\end{equation}\n\\begin{equation}x - 2 |\\overline{x^{2} + 2x - 3} \\end{equation}\n\\begin{equation}- (x^{2} -2x) \\end{equation}\n\\begin{equation}\\;\\;\\;\\;\\;\\overline{\\;\\;\\;\\;\\;\\;\\;\\;\\;\\;4x -3} \\end{equation}\n\\begin{equation}- (\\;\\;\\;\\;\\;\\;\\;\\;\\;\\;\\;\\;4x -8) \\end{equation}\n\\begin{equation}\\;\\;\\;\\;\\;\\overline{\\;\\;\\;\\;\\;\\;\\;\\;\\;\\;\\;\\;\\;\\;\\;\\;5} \\end{equation}\n\nWe're now left with just 5, which we can't divide further by x - 2; so that's our remainder, which we'll add as a fraction.\n\nThe solution to our division problem is:\n\n\\begin{equation}x + 4 + \\frac{5}{x-2} \\end{equation}\n\nOnce again, we can use Python to check our answer:"
    },
    {
      "metadata": {
        "collapsed": true,
        "trusted": false
      },
      "cell_type": "code",
      "source": "from random import randint\nx = randint(3,100)\n\n(x**2 + 2*x -3)/(x-2) == x + 4 + (5/(x-2))\n                                ",
      "execution_count": null,
      "outputs": []
    }
  ],
  "metadata": {
    "kernelspec": {
      "name": "python36",
      "display_name": "Python 3.6",
      "language": "python"
    },
    "language_info": {
      "mimetype": "text/x-python",
      "nbconvert_exporter": "python",
      "name": "python",
      "pygments_lexer": "ipython3",
      "version": "3.6.6",
      "file_extension": ".py",
      "codemirror_mode": {
        "version": 3,
        "name": "ipython"
      }
    }
  },
  "nbformat": 4,
  "nbformat_minor": 2
}