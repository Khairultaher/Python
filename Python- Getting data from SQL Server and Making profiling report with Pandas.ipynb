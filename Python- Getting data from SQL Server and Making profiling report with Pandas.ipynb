{
 "cells": [
  {
   "cell_type": "raw",
   "metadata": {},
   "source": [
    "We often need to check the status of data such as data type, rate of missing/null value etc for Cleaning & Preprocessing while doing Data Science/Analysis project. To get the inside of data very easy and quickly we can use pandas_profiling."
   ]
  },
  {
   "cell_type": "markdown",
   "metadata": {},
   "source": [
    "We often need to check the status of data such as data type, rate of missing/null value etc for Cleaning & Preprocessing while doing Data Science/Analysis project. When I would worked with Anti-Money Laundering project at Datasoft Systems Bangladesh Limited then it was very often needed to know the status of data for Cleaning & Preprocessing before reporting and analysis purpose. Since then to get the inside of data very easy and quickly I prefer to use pandas_profiling.\n",
    "\n",
    "Today I will try to share how to connect to sql server by pyodbc and make a Pandas Profiling Report. "
   ]
  },
  {
   "cell_type": "raw",
   "metadata": {},
   "source": [
    "1) At first need to install pandas, pyodbc and pandas_profiling then import these three libraries.\n",
    "In this step if any error occured while installing then see the following: \n",
    "https://stackoverflow.com/questions/62165524/getting-error-while-installing-pandas-profiling"
   ]
  },
  {
   "cell_type": "code",
   "execution_count": 15,
   "metadata": {},
   "outputs": [
    {
     "name": "stdout",
     "output_type": "stream",
     "text": [
      "imported...\n"
     ]
    }
   ],
   "source": [
    "import pandas as pd\n",
    "import pyodbc\n",
    "import pandas_profiling\n",
    "print('imported...')"
   ]
  },
  {
   "cell_type": "raw",
   "metadata": {},
   "source": [
    "2) Connect to SQL Server by pyodbc."
   ]
  },
  {
   "cell_type": "code",
   "execution_count": 9,
   "metadata": {},
   "outputs": [
    {
     "name": "stdout",
     "output_type": "stream",
     "text": [
      "connected to SQL Server...\n"
     ]
    }
   ],
   "source": [
    "sql_conn = pyodbc.connect('DRIVER={SQL Server}; \\\n",
    "                            SERVER=RAKIB\\SRV19; \\\n",
    "                            DATABASE=AdventureWorks2016; \\\n",
    "                            Trusted_Connection=yes') \n",
    "\n",
    "print('connected to SQL Server...')"
   ]
  },
  {
   "cell_type": "raw",
   "metadata": {},
   "source": [
    "3) Get/Read required data by pandas read_sql function. Using df.head we can limit the number of data to be displayed."
   ]
  },
  {
   "cell_type": "code",
   "execution_count": 10,
   "metadata": {},
   "outputs": [
    {
     "data": {
      "text/html": [
       "<div>\n",
       "<style scoped>\n",
       "    .dataframe tbody tr th:only-of-type {\n",
       "        vertical-align: middle;\n",
       "    }\n",
       "\n",
       "    .dataframe tbody tr th {\n",
       "        vertical-align: top;\n",
       "    }\n",
       "\n",
       "    .dataframe thead th {\n",
       "        text-align: right;\n",
       "    }\n",
       "</style>\n",
       "<table border=\"1\" class=\"dataframe\">\n",
       "  <thead>\n",
       "    <tr style=\"text-align: right;\">\n",
       "      <th></th>\n",
       "      <th>AddressLine2</th>\n",
       "      <th>AddressLine1</th>\n",
       "      <th>City</th>\n",
       "    </tr>\n",
       "  </thead>\n",
       "  <tbody>\n",
       "    <tr>\n",
       "      <th>0</th>\n",
       "      <td>None</td>\n",
       "      <td>#500-75 O'Connor Street</td>\n",
       "      <td>Ottawa</td>\n",
       "    </tr>\n",
       "    <tr>\n",
       "      <th>1</th>\n",
       "      <td>None</td>\n",
       "      <td>#9900 2700 Production Way</td>\n",
       "      <td>Burnaby</td>\n",
       "    </tr>\n",
       "    <tr>\n",
       "      <th>2</th>\n",
       "      <td>None</td>\n",
       "      <td>00, rue Saint-Lazare</td>\n",
       "      <td>Dunkerque</td>\n",
       "    </tr>\n",
       "    <tr>\n",
       "      <th>3</th>\n",
       "      <td>None</td>\n",
       "      <td>02, place de Fontenoy</td>\n",
       "      <td>Verrieres Le Buisson</td>\n",
       "    </tr>\n",
       "    <tr>\n",
       "      <th>4</th>\n",
       "      <td>None</td>\n",
       "      <td>035, boulevard du Montparnasse</td>\n",
       "      <td>Verrieres Le Buisson</td>\n",
       "    </tr>\n",
       "  </tbody>\n",
       "</table>\n",
       "</div>"
      ],
      "text/plain": [
       "  AddressLine2                    AddressLine1                  City\n",
       "0         None         #500-75 O'Connor Street                Ottawa\n",
       "1         None       #9900 2700 Production Way               Burnaby\n",
       "2         None            00, rue Saint-Lazare             Dunkerque\n",
       "3         None           02, place de Fontenoy  Verrieres Le Buisson\n",
       "4         None  035, boulevard du Montparnasse  Verrieres Le Buisson"
      ]
     },
     "execution_count": 10,
     "metadata": {},
     "output_type": "execute_result"
    }
   ],
   "source": [
    "sql_query = '''SELECT \n",
    "                   [AddressLine2]\n",
    "                  ,[AddressLine1]\n",
    "                  ,[City]\n",
    "              FROM [AdventureWorks2016].[Person].[Address]'''\n",
    "df = pd.read_sql(sql_query, sql_conn)\n",
    "df.head(5)\n"
   ]
  },
  {
   "cell_type": "code",
   "execution_count": 1,
   "metadata": {},
   "outputs": [],
   "source": [
    "# pip install --upgrade setuptool\n",
    "# https://stackoverflow.com/questions/62165524/getting-error-while-installing-pandas-profiling"
   ]
  },
  {
   "cell_type": "raw",
   "metadata": {},
   "source": [
    "4) Generate profile report using pandas_profiling and export as html."
   ]
  },
  {
   "cell_type": "code",
   "execution_count": 12,
   "metadata": {},
   "outputs": [
    {
     "data": {
      "application/vnd.jupyter.widget-view+json": {
       "model_id": "470e9f78ccaa411785d72faa699a3106",
       "version_major": 2,
       "version_minor": 0
      },
      "text/plain": [
       "HBox(children=(FloatProgress(value=0.0, description='Summarize dataset', max=17.0, style=ProgressStyle(descrip…"
      ]
     },
     "metadata": {},
     "output_type": "display_data"
    },
    {
     "name": "stdout",
     "output_type": "stream",
     "text": [
      "\n"
     ]
    },
    {
     "data": {
      "application/vnd.jupyter.widget-view+json": {
       "model_id": "a8903a9abe90456c9b4324bbaab2a2bf",
       "version_major": 2,
       "version_minor": 0
      },
      "text/plain": [
       "HBox(children=(FloatProgress(value=0.0, description='Generate report structure', max=1.0, style=ProgressStyle(…"
      ]
     },
     "metadata": {},
     "output_type": "display_data"
    },
    {
     "name": "stdout",
     "output_type": "stream",
     "text": [
      "\n"
     ]
    },
    {
     "data": {
      "application/vnd.jupyter.widget-view+json": {
       "model_id": "0fa3573e7b7f453283e10c6994fc187d",
       "version_major": 2,
       "version_minor": 0
      },
      "text/plain": [
       "HBox(children=(FloatProgress(value=0.0, description='Render HTML', max=1.0, style=ProgressStyle(description_wi…"
      ]
     },
     "metadata": {},
     "output_type": "display_data"
    },
    {
     "name": "stdout",
     "output_type": "stream",
     "text": [
      "\n"
     ]
    },
    {
     "data": {
      "application/vnd.jupyter.widget-view+json": {
       "model_id": "2a505e7ae7a84bcbad18882f568a212a",
       "version_major": 2,
       "version_minor": 0
      },
      "text/plain": [
       "HBox(children=(FloatProgress(value=0.0, description='Export report to file', max=1.0, style=ProgressStyle(desc…"
      ]
     },
     "metadata": {},
     "output_type": "display_data"
    },
    {
     "name": "stdout",
     "output_type": "stream",
     "text": [
      "\n"
     ]
    }
   ],
   "source": [
    "report = pandas_profiling.ProfileReport(df)\n",
    "report.to_file(\"E:\\PRACTICE\\PYTHON\\SAMPLE_CUSTOMER.html\")\n"
   ]
  },
  {
   "cell_type": "raw",
   "metadata": {},
   "source": [
    "6) Go to predefined location/drive and find the SAMPLE_CUSTOMER.html and open it."
   ]
  },
  {
   "cell_type": "code",
   "execution_count": null,
   "metadata": {},
   "outputs": [],
   "source": []
  }
 ],
 "metadata": {
  "kernelspec": {
   "display_name": "Python 3",
   "language": "python",
   "name": "python3"
  },
  "language_info": {
   "codemirror_mode": {
    "name": "ipython",
    "version": 3
   },
   "file_extension": ".py",
   "mimetype": "text/x-python",
   "name": "python",
   "nbconvert_exporter": "python",
   "pygments_lexer": "ipython3",
   "version": "3.8.3"
  }
 },
 "nbformat": 4,
 "nbformat_minor": 4
}
