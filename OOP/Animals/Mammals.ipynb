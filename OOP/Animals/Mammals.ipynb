{
 "cells": [
  {
   "cell_type": "code",
   "execution_count": 1,
   "metadata": {},
   "outputs": [],
   "source": [
    "class Mammals:\n",
    "    def __init__(self):\n",
    "        ''' Constructor for this class. '''\n",
    "        # Create some member animals\n",
    "        self.members = ['Tiger', 'Elephant', 'Wild Cat']\n",
    " \n",
    " \n",
    "    def printMembers(self):\n",
    "        print('Printing members of the Mammals class')\n",
    "        for member in self.members:\n",
    "            print('\\t%s ' % member)"
   ]
  },
  {
   "cell_type": "code",
   "execution_count": null,
   "metadata": {},
   "outputs": [],
   "source": []
  }
 ],
 "metadata": {
  "kernelspec": {
   "display_name": "Python 3",
   "language": "python",
   "name": "python3"
  },
  "language_info": {
   "codemirror_mode": {
    "name": "ipython",
    "version": 3
   },
   "file_extension": ".py",
   "mimetype": "text/x-python",
   "name": "python",
   "nbconvert_exporter": "python",
   "pygments_lexer": "ipython3",
   "version": "3.7.3"
  }
 },
 "nbformat": 4,
 "nbformat_minor": 2
}
